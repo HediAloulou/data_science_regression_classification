{
 "cells": [
  {
   "cell_type": "markdown",
   "metadata": {},
   "source": [
    "# 1. Problematic"
   ]
  },
  {
   "cell_type": "markdown",
   "metadata": {},
   "source": []
  },
  {
   "cell_type": "markdown",
   "metadata": {},
   "source": [
    "# 2. Data understanding"
   ]
  },
  {
   "cell_type": "markdown",
   "metadata": {},
   "source": [
    "### 2.1. Import required libraries"
   ]
  },
  {
   "cell_type": "code",
   "execution_count": 1,
   "metadata": {},
   "outputs": [
    {
     "name": "stderr",
     "output_type": "stream",
     "text": [
      "[nltk_data] Downloading package stopwords to C:\\Users\\Hedi\n",
      "[nltk_data]     Aloulou\\AppData\\Roaming\\nltk_data...\n",
      "[nltk_data]   Package stopwords is already up-to-date!\n"
     ]
    }
   ],
   "source": [
    "import pandas as pd\n",
    "import re\n",
    "import nltk\n",
    "import numpy as np\n",
    "from sklearn.feature_extraction.text import TfidfVectorizer \n",
    "from sklearn.model_selection import train_test_split\n",
    "from sklearn.neural_network import MLPClassifier\n",
    "import sklearn.naive_bayes\n",
    "from sklearn.svm import SVC\n",
    "from sklearn.naive_bayes import GaussianNB\n",
    "import pickle\n",
    "from sklearn.metrics import classification_report\n",
    "import matplotlib.pyplot as plt\n",
    "import re\n",
    "from nltk.corpus import stopwords\n",
    "nltk.download('stopwords')\n",
    "from keras.models import Sequential\n",
    "from keras.layers import LSTM, Dense, Embedding, Bidirectional\n",
    "from sklearn.feature_extraction.text import TfidfVectorizer\n",
    "from keras.utils import pad_sequences\n",
    "from keras.models import Sequential\n",
    "from keras.layers import Embedding, Bidirectional, LSTM, Dense\n",
    "from nltk.tokenize import word_tokenize\n",
    "from sklearn.preprocessing import LabelEncoder\n",
    "import tensorflow as tf\n",
    "from sklearn.model_selection import train_test_split\n",
    "import gzip\n",
    "from keras.models import model_from_json\n",
    "from keras.callbacks import ModelCheckpoint\n",
    "\n"
   ]
  },
  {
   "cell_type": "code",
   "execution_count": 2,
   "metadata": {},
   "outputs": [
    {
     "name": "stdout",
     "output_type": "stream",
     "text": [
      "Num GPUs Available:  1\n"
     ]
    }
   ],
   "source": [
    "# check gpu availability\n",
    "print(\"Num GPUs Available: \", len(tf.config.list_physical_devices('GPU')))"
   ]
  },
  {
   "cell_type": "code",
   "execution_count": 3,
   "metadata": {},
   "outputs": [
    {
     "name": "stdout",
     "output_type": "stream",
     "text": [
      "1 Physical GPUs, 1 Logical GPU\n"
     ]
    }
   ],
   "source": [
    "gpus = tf.config.list_physical_devices('GPU')\n",
    "if gpus:\n",
    "  # Restrict TensorFlow to only use the first GPU\n",
    "  try:\n",
    "    tf.config.set_visible_devices(gpus[0], 'GPU')\n",
    "    logical_gpus = tf.config.list_logical_devices('GPU')\n",
    "    print(len(gpus), \"Physical GPUs,\", len(logical_gpus), \"Logical GPU\")\n",
    "  except RuntimeError as e:\n",
    "    # Visible devices must be set before GPUs have been initialized\n",
    "    print(e)"
   ]
  },
  {
   "cell_type": "markdown",
   "metadata": {},
   "source": [
    "## 2.2. Data discovery"
   ]
  },
  {
   "cell_type": "code",
   "execution_count": 4,
   "metadata": {},
   "outputs": [
    {
     "data": {
      "text/html": [
       "<div>\n",
       "<style scoped>\n",
       "    .dataframe tbody tr th:only-of-type {\n",
       "        vertical-align: middle;\n",
       "    }\n",
       "\n",
       "    .dataframe tbody tr th {\n",
       "        vertical-align: top;\n",
       "    }\n",
       "\n",
       "    .dataframe thead th {\n",
       "        text-align: right;\n",
       "    }\n",
       "</style>\n",
       "<table border=\"1\" class=\"dataframe\">\n",
       "  <thead>\n",
       "    <tr style=\"text-align: right;\">\n",
       "      <th></th>\n",
       "      <th>text</th>\n",
       "      <th>sentiment</th>\n",
       "    </tr>\n",
       "  </thead>\n",
       "  <tbody>\n",
       "    <tr>\n",
       "      <th>0</th>\n",
       "      <td>حتى انا مايطلعوليش</td>\n",
       "      <td>1.0</td>\n",
       "    </tr>\n",
       "    <tr>\n",
       "      <th>1</th>\n",
       "      <td>NaN</td>\n",
       "      <td>0.0</td>\n",
       "    </tr>\n",
       "    <tr>\n",
       "      <th>2</th>\n",
       "      <td>بلاهي تحيا ألسي فتحي العكاري على الدور البو إل...</td>\n",
       "      <td>0.0</td>\n",
       "    </tr>\n",
       "    <tr>\n",
       "      <th>3</th>\n",
       "      <td>بلحق ماهوش راجل و مرتو ارجل منو و زاد طرد بنتو...</td>\n",
       "      <td>-1.0</td>\n",
       "    </tr>\n",
       "    <tr>\n",
       "      <th>4</th>\n",
       "      <td>وين الحلقة كاملة فولوجة 2</td>\n",
       "      <td>0.0</td>\n",
       "    </tr>\n",
       "  </tbody>\n",
       "</table>\n",
       "</div>"
      ],
      "text/plain": [
       "                                                text  sentiment\n",
       "0                                 حتى انا مايطلعوليش        1.0\n",
       "1                                                NaN        0.0\n",
       "2  بلاهي تحيا ألسي فتحي العكاري على الدور البو إل...        0.0\n",
       "3  بلحق ماهوش راجل و مرتو ارجل منو و زاد طرد بنتو...       -1.0\n",
       "4                          وين الحلقة كاملة فولوجة 2        0.0"
      ]
     },
     "execution_count": 4,
     "metadata": {},
     "output_type": "execute_result"
    }
   ],
   "source": [
    "df = pd.read_csv(\"data.csv\")\n",
    "df.head()"
   ]
  },
  {
   "cell_type": "markdown",
   "metadata": {},
   "source": []
  },
  {
   "cell_type": "code",
   "execution_count": 5,
   "metadata": {},
   "outputs": [
    {
     "name": "stdout",
     "output_type": "stream",
     "text": [
      "<class 'pandas.core.frame.DataFrame'>\n",
      "RangeIndex: 9318 entries, 0 to 9317\n",
      "Data columns (total 2 columns):\n",
      " #   Column     Non-Null Count  Dtype  \n",
      "---  ------     --------------  -----  \n",
      " 0   text       9314 non-null   object \n",
      " 1   sentiment  4111 non-null   float64\n",
      "dtypes: float64(1), object(1)\n",
      "memory usage: 145.7+ KB\n"
     ]
    }
   ],
   "source": [
    "df.info()"
   ]
  },
  {
   "cell_type": "code",
   "execution_count": 6,
   "metadata": {},
   "outputs": [
    {
     "data": {
      "text/html": [
       "<div>\n",
       "<style scoped>\n",
       "    .dataframe tbody tr th:only-of-type {\n",
       "        vertical-align: middle;\n",
       "    }\n",
       "\n",
       "    .dataframe tbody tr th {\n",
       "        vertical-align: top;\n",
       "    }\n",
       "\n",
       "    .dataframe thead th {\n",
       "        text-align: right;\n",
       "    }\n",
       "</style>\n",
       "<table border=\"1\" class=\"dataframe\">\n",
       "  <thead>\n",
       "    <tr style=\"text-align: right;\">\n",
       "      <th></th>\n",
       "      <th>sentiment</th>\n",
       "    </tr>\n",
       "  </thead>\n",
       "  <tbody>\n",
       "    <tr>\n",
       "      <th>count</th>\n",
       "      <td>4111.000000</td>\n",
       "    </tr>\n",
       "    <tr>\n",
       "      <th>mean</th>\n",
       "      <td>0.192897</td>\n",
       "    </tr>\n",
       "    <tr>\n",
       "      <th>std</th>\n",
       "      <td>0.817097</td>\n",
       "    </tr>\n",
       "    <tr>\n",
       "      <th>min</th>\n",
       "      <td>-1.000000</td>\n",
       "    </tr>\n",
       "    <tr>\n",
       "      <th>25%</th>\n",
       "      <td>-1.000000</td>\n",
       "    </tr>\n",
       "    <tr>\n",
       "      <th>50%</th>\n",
       "      <td>0.000000</td>\n",
       "    </tr>\n",
       "    <tr>\n",
       "      <th>75%</th>\n",
       "      <td>1.000000</td>\n",
       "    </tr>\n",
       "    <tr>\n",
       "      <th>max</th>\n",
       "      <td>1.000000</td>\n",
       "    </tr>\n",
       "  </tbody>\n",
       "</table>\n",
       "</div>"
      ],
      "text/plain": [
       "         sentiment\n",
       "count  4111.000000\n",
       "mean      0.192897\n",
       "std       0.817097\n",
       "min      -1.000000\n",
       "25%      -1.000000\n",
       "50%       0.000000\n",
       "75%       1.000000\n",
       "max       1.000000"
      ]
     },
     "execution_count": 6,
     "metadata": {},
     "output_type": "execute_result"
    }
   ],
   "source": [
    "df.describe()"
   ]
  },
  {
   "cell_type": "markdown",
   "metadata": {},
   "source": [
    "# 3. Data analysis"
   ]
  },
  {
   "cell_type": "markdown",
   "metadata": {},
   "source": [
    "## 3.1. Data interpretation"
   ]
  },
  {
   "cell_type": "code",
   "execution_count": 7,
   "metadata": {},
   "outputs": [
    {
     "data": {
      "text/plain": [
       "sentiment\n",
       " 1.0    1845\n",
       " 0.0    1214\n",
       "-1.0    1052\n",
       "Name: count, dtype: int64"
      ]
     },
     "execution_count": 7,
     "metadata": {},
     "output_type": "execute_result"
    }
   ],
   "source": [
    "# count number of apperances of each class\n",
    "df.sentiment.value_counts()"
   ]
  },
  {
   "cell_type": "code",
   "execution_count": 8,
   "metadata": {},
   "outputs": [
    {
     "data": {
      "text/plain": [
       "(9318, 2)"
      ]
     },
     "execution_count": 8,
     "metadata": {},
     "output_type": "execute_result"
    }
   ],
   "source": [
    "df.shape"
   ]
  },
  {
   "cell_type": "markdown",
   "metadata": {},
   "source": [
    "## 3.2. Data visualization"
   ]
  },
  {
   "cell_type": "markdown",
   "metadata": {},
   "source": [
    "### 3.2.1. using bar chart"
   ]
  },
  {
   "cell_type": "code",
   "execution_count": 9,
   "metadata": {},
   "outputs": [
    {
     "data": {
      "image/png": "[encoded data removed]",
      "text/plain": [
       "<Figure size 800x600 with 1 Axes>"
      ]
     },
     "metadata": {},
     "output_type": "display_data"
    }
   ],
   "source": [
    "sentiment_counts = df['sentiment'].value_counts()\n",
    "plt.figure(figsize=(8, 6))\n",
    "sentiment_counts.plot(kind='bar', color='skyblue')\n",
    "plt.title('Sentiment Distribution')\n",
    "plt.xlabel('Sentiment')\n",
    "plt.ylabel('Number of Comments')\n",
    "plt.xticks(rotation=0)\n",
    "plt.show()"
   ]
  },
  {
   "cell_type": "markdown",
   "metadata": {},
   "source": [
    "### 3.2.2. using pie chart"
   ]
  },
  {
   "cell_type": "code",
   "execution_count": 10,
   "metadata": {},
   "outputs": [
    {
     "data": {
      "image/png": "[encoded data removed]",
      "text/plain": [
       "<Figure size 800x600 with 1 Axes>"
      ]
     },
     "metadata": {},
     "output_type": "display_data"
    }
   ],
   "source": [
    "plt.figure(figsize=(8, 6))\n",
    "sentiment_counts.plot(kind='pie', autopct='%1.1f%%', colors=['lightcoral', 'lightgreen', 'lightskyblue'])\n",
    "plt.title('Sentiment Distribution')\n",
    "plt.ylabel('')\n",
    "plt.show()"
   ]
  },
  {
   "cell_type": "markdown",
   "metadata": {},
   "source": [
    "### 3.2.3. using word Cloud"
   ]
  },
  {
   "cell_type": "code",
   "execution_count": 12,
   "metadata": {},
   "outputs": [],
   "source": [
    "#comment_text = ' '.join(df['text'].astype(str).tolist())\n",
    "#wordcloud = WordCloud(width=800, height=400, background_color='white').generate(comment_text)\n",
    "\n",
    "#plt.figure(figsize=(10, 6))\n",
    "#plt.imshow(wordcloud, interpolation='bilinear')\n",
    "#plt.title('Word Cloud for Comments')\n",
    "#plt.axis('off')\n",
    "#plt.show()"
   ]
  },
  {
   "cell_type": "markdown",
   "metadata": {},
   "source": [
    "* our dataset has a lot of null values , so let's dive into preprocessing step !"
   ]
  },
  {
   "cell_type": "markdown",
   "metadata": {},
   "source": [
    "# 4. Data preprocessing"
   ]
  },
  {
   "cell_type": "markdown",
   "metadata": {},
   "source": [
    "## 4.1. Data cleaning "
   ]
  },
  {
   "cell_type": "code",
   "execution_count": 13,
   "metadata": {},
   "outputs": [],
   "source": [
    "df = df.dropna()"
   ]
  },
  {
   "cell_type": "code",
   "execution_count": 14,
   "metadata": {},
   "outputs": [],
   "source": [
    "df = df.drop_duplicates()\n"
   ]
  },
  {
   "cell_type": "code",
   "execution_count": 15,
   "metadata": {},
   "outputs": [],
   "source": [
    "# Define features and label\n",
    "features = df['text']\n",
    "labels = df['sentiment']"
   ]
  },
  {
   "cell_type": "code",
   "execution_count": 16,
   "metadata": {},
   "outputs": [
    {
     "data": {
      "text/plain": [
       "0                                      حتى انا مايطلعوليش\n",
       "2       بلاهي تحيا ألسي فتحي العكاري على الدور البو إل...\n",
       "3       بلحق ماهوش راجل و مرتو ارجل منو و زاد طرد بنتو...\n",
       "4                               وين الحلقة كاملة فولوجة 2\n",
       "5                                                 فلوجة ❤\n",
       "                              ...                        \n",
       "9301    كلما أشاهد حلقة جديدة، يتأكد لي أن هذا المسلسل...\n",
       "9302    لم يعد هناك أي جاذبية في هذا المسلسل، فهو لا ي...\n",
       "9303    يظهر هذا المسلسل علامات واضحة على الإعياء والإ...\n",
       "9304    لا يمكنني التصديق أن هذا المسلسل ما زال مستمرً...\n",
       "9306    يبدو أن هذا المسلسل قد فقد الهدف والتوجه، فلا ...\n",
       "Name: text, Length: 4014, dtype: object"
      ]
     },
     "execution_count": 16,
     "metadata": {},
     "output_type": "execute_result"
    }
   ],
   "source": [
    "features"
   ]
  },
  {
   "cell_type": "code",
   "execution_count": 17,
   "metadata": {},
   "outputs": [
    {
     "data": {
      "text/plain": [
       "0       1.0\n",
       "2       0.0\n",
       "3      -1.0\n",
       "4       0.0\n",
       "5       0.0\n",
       "       ... \n",
       "9301   -1.0\n",
       "9302   -1.0\n",
       "9303   -1.0\n",
       "9304   -1.0\n",
       "9306   -1.0\n",
       "Name: sentiment, Length: 4014, dtype: float64"
      ]
     },
     "execution_count": 17,
     "metadata": {},
     "output_type": "execute_result"
    }
   ],
   "source": [
    "labels"
   ]
  },
  {
   "cell_type": "code",
   "execution_count": 18,
   "metadata": {},
   "outputs": [],
   "source": [
    "# define text cleaning function\n",
    "\n",
    "def clean_text(text):\n",
    "    # Remove non-Arabic characters\n",
    "    text = text.str.replace(r'[^\\u0621-\\u064A\\s]', ' ', regex=True)  # Arabic Unicode range\n",
    "    # Remove HTML tags\n",
    "    text = text.str.replace(r'<.*?>', '', regex=True)\n",
    "    # Remove multiple white spaces\n",
    "    text = text.str.replace(r'\\s+', ' ', regex=True)\n",
    "    # Remove single characters except spaces\n",
    "    text = text.str.replace(r'\\b\\w\\b', '', regex=True)\n",
    "    # Strip leading and trailing spaces\n",
    "    text = text.str.strip()\n",
    "    return text"
   ]
  },
  {
   "cell_type": "code",
   "execution_count": 19,
   "metadata": {},
   "outputs": [],
   "source": [
    "# define function to preprocess text data\n",
    "\n",
    "def preprocess_text(df):\n",
    "    # Drop duplicate rows\n",
    "    df.drop_duplicates(inplace=True)\n",
    "    # Clean text\n",
    "    df['text'] = clean_text(df['text'])\n",
    "    # Keep only alphanumeric and space characters\n",
    "    df['text'] = df['text'].apply(lambda x: ''.join(char for char in x if char.isnumeric() or char.isalpha() or char.isspace()))\n",
    "    return df"
   ]
  },
  {
   "cell_type": "code",
   "execution_count": 20,
   "metadata": {},
   "outputs": [
    {
     "data": {
      "text/html": [
       "<div>\n",
       "<style scoped>\n",
       "    .dataframe tbody tr th:only-of-type {\n",
       "        vertical-align: middle;\n",
       "    }\n",
       "\n",
       "    .dataframe tbody tr th {\n",
       "        vertical-align: top;\n",
       "    }\n",
       "\n",
       "    .dataframe thead th {\n",
       "        text-align: right;\n",
       "    }\n",
       "</style>\n",
       "<table border=\"1\" class=\"dataframe\">\n",
       "  <thead>\n",
       "    <tr style=\"text-align: right;\">\n",
       "      <th></th>\n",
       "      <th>text</th>\n",
       "      <th>sentiment</th>\n",
       "    </tr>\n",
       "  </thead>\n",
       "  <tbody>\n",
       "    <tr>\n",
       "      <th>0</th>\n",
       "      <td>حتى انا مايطلعوليش</td>\n",
       "      <td>1.0</td>\n",
       "    </tr>\n",
       "    <tr>\n",
       "      <th>2</th>\n",
       "      <td>بلاهي تحيا ألسي فتحي العكاري على الدور البو إل...</td>\n",
       "      <td>0.0</td>\n",
       "    </tr>\n",
       "    <tr>\n",
       "      <th>3</th>\n",
       "      <td>بلحق ماهوش راجل و مرتو ارجل منو و زاد طرد بنتو...</td>\n",
       "      <td>-1.0</td>\n",
       "    </tr>\n",
       "    <tr>\n",
       "      <th>4</th>\n",
       "      <td>وين الحلقة كاملة فولوجة 2</td>\n",
       "      <td>0.0</td>\n",
       "    </tr>\n",
       "    <tr>\n",
       "      <th>5</th>\n",
       "      <td>فلوجة ❤</td>\n",
       "      <td>0.0</td>\n",
       "    </tr>\n",
       "  </tbody>\n",
       "</table>\n",
       "</div>"
      ],
      "text/plain": [
       "                                                text  sentiment\n",
       "0                                 حتى انا مايطلعوليش        1.0\n",
       "2  بلاهي تحيا ألسي فتحي العكاري على الدور البو إل...        0.0\n",
       "3  بلحق ماهوش راجل و مرتو ارجل منو و زاد طرد بنتو...       -1.0\n",
       "4                          وين الحلقة كاملة فولوجة 2        0.0\n",
       "5                                            فلوجة ❤        0.0"
      ]
     },
     "execution_count": 20,
     "metadata": {},
     "output_type": "execute_result"
    }
   ],
   "source": [
    "df.head()"
   ]
  },
  {
   "cell_type": "code",
   "execution_count": 21,
   "metadata": {},
   "outputs": [],
   "source": [
    "df = df.sample(frac=1).reset_index(drop=True)"
   ]
  },
  {
   "cell_type": "code",
   "execution_count": 22,
   "metadata": {},
   "outputs": [
    {
     "data": {
      "text/html": [
       "<div>\n",
       "<style scoped>\n",
       "    .dataframe tbody tr th:only-of-type {\n",
       "        vertical-align: middle;\n",
       "    }\n",
       "\n",
       "    .dataframe tbody tr th {\n",
       "        vertical-align: top;\n",
       "    }\n",
       "\n",
       "    .dataframe thead th {\n",
       "        text-align: right;\n",
       "    }\n",
       "</style>\n",
       "<table border=\"1\" class=\"dataframe\">\n",
       "  <thead>\n",
       "    <tr style=\"text-align: right;\">\n",
       "      <th></th>\n",
       "      <th>text</th>\n",
       "      <th>sentiment</th>\n",
       "    </tr>\n",
       "  </thead>\n",
       "  <tbody>\n",
       "    <tr>\n",
       "      <th>0</th>\n",
       "      <td>اناحالي  تعيس  اماحال    المنجي اتعس واضحك  ام...</td>\n",
       "      <td>1.0</td>\n",
       "    </tr>\n",
       "    <tr>\n",
       "      <th>1</th>\n",
       "      <td>هايلا 👍👍👏👏💞</td>\n",
       "      <td>1.0</td>\n",
       "    </tr>\n",
       "    <tr>\n",
       "      <th>2</th>\n",
       "      <td>شكون مازال يتفرج فيه 2023.  أفضل سيتكوم ❤</td>\n",
       "      <td>0.0</td>\n",
       "    </tr>\n",
       "    <tr>\n",
       "      <th>3</th>\n",
       "      <td>مسلسل تمثل فيه دليلة مفتاح مستحيل ماينجحش شخصي...</td>\n",
       "      <td>1.0</td>\n",
       "    </tr>\n",
       "    <tr>\n",
       "      <th>4</th>\n",
       "      <td>شكون مازال يتفرج فيه 2023 الله   ال❤❤</td>\n",
       "      <td>0.0</td>\n",
       "    </tr>\n",
       "  </tbody>\n",
       "</table>\n",
       "</div>"
      ],
      "text/plain": [
       "                                                text  sentiment\n",
       "0  اناحالي  تعيس  اماحال    المنجي اتعس واضحك  ام...        1.0\n",
       "1                                        هايلا 👍👍👏👏💞        1.0\n",
       "2          شكون مازال يتفرج فيه 2023.  أفضل سيتكوم ❤        0.0\n",
       "3  مسلسل تمثل فيه دليلة مفتاح مستحيل ماينجحش شخصي...        1.0\n",
       "4              شكون مازال يتفرج فيه 2023 الله   ال❤❤        0.0"
      ]
     },
     "execution_count": 22,
     "metadata": {},
     "output_type": "execute_result"
    }
   ],
   "source": [
    "df.head()"
   ]
  },
  {
   "cell_type": "code",
   "execution_count": 23,
   "metadata": {},
   "outputs": [],
   "source": [
    "# define normalization_arabic function\n",
    "\n",
    "def normalize_arabic(text):\n",
    "    text = re.sub(\"[إأآا]\", \"ا\", text)\n",
    "    text = re.sub(\"ى\", \"ي\", text)\n",
    "    text = re.sub(\"ؤ\", \"ء\", text)\n",
    "    text = re.sub(\"ئ\", \"ء\", text)\n",
    "    text = re.sub(\"ة\", \"ه\", text)\n",
    "    text = re.sub(\"گ\", \"ك\", text)\n",
    "    return text"
   ]
  },
  {
   "cell_type": "code",
   "execution_count": 24,
   "metadata": {},
   "outputs": [
    {
     "name": "stdout",
     "output_type": "stream",
     "text": [
      "0       اناحالي تعيس اماحال المنجي اتعس واضحك اما محله...\n",
      "1                                                   هايلا\n",
      "2                        شكون مازال يتفرج فيه افضل سيتكوم\n",
      "3       مسلسل تمثل فيه دليله مفتاح مستحيل ماينجحش شخصي...\n",
      "4                            شكون مازال يتفرج فيه الله ال\n",
      "                              ...                        \n",
      "4009                                     جلطا مسكين ههههه\n",
      "4010    كلما اشاهد حلقه جديده يزداد انزعاجي من هذا الم...\n",
      "4011    ربي يرحمك خليتي وراك فراغ كبير  شكون اللي ما ي...\n",
      "4012          العمل يفتقد الي العمق والتفاعل بين الشخصيات\n",
      "4013                                        هههههههه روعه\n",
      "Name: text, Length: 4014, dtype: object\n"
     ]
    }
   ],
   "source": [
    "df['text'] = clean_text(df['text'])\n",
    "df['text'] = df['text'].astype(str)\n",
    "df['text'] = df['text'].apply(normalize_arabic)\n",
    "print(df['text'])"
   ]
  },
  {
   "cell_type": "markdown",
   "metadata": {},
   "source": [
    "## 4.2. Word Embedding"
   ]
  },
  {
   "cell_type": "code",
   "execution_count": 25,
   "metadata": {},
   "outputs": [
    {
     "name": "stderr",
     "output_type": "stream",
     "text": [
      "[nltk_data] Downloading package punkt to C:\\Users\\Hedi\n",
      "[nltk_data]     Aloulou\\AppData\\Roaming\\nltk_data...\n",
      "[nltk_data]   Package punkt is already up-to-date!\n",
      "[nltk_data] Downloading package stopwords to C:\\Users\\Hedi\n",
      "[nltk_data]     Aloulou\\AppData\\Roaming\\nltk_data...\n",
      "[nltk_data]   Package stopwords is already up-to-date!\n"
     ]
    },
    {
     "data": {
      "text/plain": [
       "True"
      ]
     },
     "execution_count": 25,
     "metadata": {},
     "output_type": "execute_result"
    }
   ],
   "source": [
    "# download stop words and punkt\n",
    "nltk.download('punkt')\n",
    "nltk.download('stopwords')"
   ]
  },
  {
   "cell_type": "markdown",
   "metadata": {},
   "source": [
    "### 4.2.1. In LSTM"
   ]
  },
  {
   "cell_type": "code",
   "execution_count": 26,
   "metadata": {},
   "outputs": [],
   "source": [
    "with gzip.open('cc.ar.300.vec.gz', 'rb') as f_in:\n",
    "    with open('cc.ar.300.vec', 'wb') as f_out:\n",
    "        f_out.write(f_in.read())\n",
    "\n",
    "# Load FastText embeddings\n",
    "embeddings_index = {}\n",
    "with open('cc.ar.300.vec', encoding='utf-8') as f:\n",
    "    for line in f:\n",
    "        values = line.rstrip().split(' ')\n",
    "        word = values[0]\n",
    "        coefs = np.asarray(values[1:], dtype='float32')\n",
    "        embeddings_index[word] = coefs"
   ]
  },
  {
   "cell_type": "code",
   "execution_count": 27,
   "metadata": {},
   "outputs": [],
   "source": [
    "df_copy = df.copy()\n",
    "# Function to get embedding for a sentence\n",
    "def get_embedding(sentence):\n",
    "    embedding = []\n",
    "    for word in sentence.split():\n",
    "        if word in embeddings_index:\n",
    "            embedding.append(embeddings_index[word])\n",
    "    return embedding\n",
    "\n",
    "# Apply embedding to cleaned text and store in a new column named 'embedding'\n",
    "df_copy['embedding'] = df_copy['text'].apply(get_embedding)\n",
    "\n",
    "# Prepare data for LSTM\n",
    "max_length = 100  # Maximum sequence length\n",
    "\n",
    "# Pad sequences to the same length\n",
    "X_lstm = pad_sequences(df_copy['embedding'], maxlen=max_length, padding='post', dtype='float32')  # Specify dtype=float32\n",
    "\n",
    "y_lstm = df_copy['sentiment']\n",
    "\n",
    "# Split data into training and testing sets\n",
    "X_train_lstm, X_test_lstm, y_train_lstm, y_test_lstm = train_test_split(X_lstm, y_lstm, test_size=0.2, random_state=42)\n",
    "\n"
   ]
  },
  {
   "cell_type": "markdown",
   "metadata": {},
   "source": [
    "### 4.2.2. Casual models"
   ]
  },
  {
   "cell_type": "code",
   "execution_count": 28,
   "metadata": {},
   "outputs": [],
   "source": [
    "arabic_stopwords = set(stopwords.words('arabic'))\n",
    "\n",
    "# Initialization of the TF-IDF Vectorizer\n",
    "vectorizer = TfidfVectorizer()\n",
    "\n",
    "# Tokenize Arabic text using word_tokenize from NLTK\n",
    "df['text'] = df['text'].apply(lambda x: word_tokenize(x))\n",
    "\n",
    "# Join tokenized text back into sentences\n",
    "df['text'] = df['text'].apply(lambda x: ' '.join(x))\n",
    "\n",
    "# Apply the vectorizer on text\n",
    "X = vectorizer.fit_transform(df['text']).toarray()\n",
    "\n",
    "# Train-test split\n",
    "X_train, X_test, y_train, y_test = train_test_split(X, df['text'], test_size=0.2, random_state=42)"
   ]
  },
  {
   "cell_type": "markdown",
   "metadata": {},
   "source": [
    "# 5. Machine learning"
   ]
  },
  {
   "cell_type": "markdown",
   "metadata": {},
   "source": [
    "## 5.1. LSTM"
   ]
  },
  {
   "cell_type": "code",
   "execution_count": 30,
   "metadata": {},
   "outputs": [
    {
     "name": "stdout",
     "output_type": "stream",
     "text": [
      "WARNING:tensorflow:Layer lstm_1 will not use cuDNN kernels since it doesn't meet the criteria. It will use a generic GPU kernel as fallback when running on GPU.\n",
      "WARNING:tensorflow:Layer lstm_1 will not use cuDNN kernels since it doesn't meet the criteria. It will use a generic GPU kernel as fallback when running on GPU.\n",
      "WARNING:tensorflow:Layer lstm_1 will not use cuDNN kernels since it doesn't meet the criteria. It will use a generic GPU kernel as fallback when running on GPU.\n"
     ]
    },
    {
     "name": "stdout",
     "output_type": "stream",
     "text": [
      "Epoch 1/20\n",
      "101/101 [==============================] - ETA: 0s - loss: -0.0392 - accuracy: 0.3407\n",
      "Epoch 1: val_accuracy improved from -inf to 0.41220, saving model to best_model.h5\n",
      "101/101 [==============================] - 84s 759ms/step - loss: -0.0392 - accuracy: 0.3407 - val_loss: -0.6487 - val_accuracy: 0.4122\n",
      "Epoch 2/20\n",
      "101/101 [==============================] - ETA: 0s - loss: -1.3295 - accuracy: 0.4226\n",
      "Epoch 2: val_accuracy improved from 0.41220 to 0.46575, saving model to best_model.h5\n",
      "101/101 [==============================] - 75s 742ms/step - loss: -1.3295 - accuracy: 0.4226 - val_loss: -1.9795 - val_accuracy: 0.4658\n",
      "Epoch 3/20\n",
      "101/101 [==============================] - ETA: 0s - loss: -2.6028 - accuracy: 0.4232\n",
      "Epoch 3: val_accuracy did not improve from 0.46575\n",
      "101/101 [==============================] - 74s 732ms/step - loss: -2.6028 - accuracy: 0.4232 - val_loss: -3.3769 - val_accuracy: 0.4608\n",
      "Epoch 4/20\n",
      "101/101 [==============================] - ETA: 0s - loss: -4.2391 - accuracy: 0.4397\n",
      "Epoch 4: val_accuracy improved from 0.46575 to 0.51681, saving model to best_model.h5\n",
      "101/101 [==============================] - 78s 772ms/step - loss: -4.2391 - accuracy: 0.4397 - val_loss: -4.6729 - val_accuracy: 0.5168\n",
      "Epoch 5/20\n",
      "101/101 [==============================] - ETA: 0s - loss: -5.8010 - accuracy: 0.4422\n",
      "Epoch 5: val_accuracy did not improve from 0.51681\n",
      "101/101 [==============================] - 80s 790ms/step - loss: -5.8010 - accuracy: 0.4422 - val_loss: -5.7734 - val_accuracy: 0.4757\n",
      "Epoch 6/20\n",
      "101/101 [==============================] - ETA: 0s - loss: -7.0896 - accuracy: 0.4550\n",
      "Epoch 6: val_accuracy did not improve from 0.51681\n",
      "101/101 [==============================] - 78s 777ms/step - loss: -7.0896 - accuracy: 0.4550 - val_loss: -7.0435 - val_accuracy: 0.4857\n",
      "Epoch 7/20\n",
      "101/101 [==============================] - ETA: 0s - loss: 0.0910 - accuracy: 0.4095\n",
      "Epoch 7: val_accuracy did not improve from 0.51681\n",
      "101/101 [==============================] - 79s 779ms/step - loss: 0.0910 - accuracy: 0.4095 - val_loss: -0.3511 - val_accuracy: 0.4483\n",
      "Epoch 8/20\n",
      "101/101 [==============================] - ETA: 0s - loss: -2.2126 - accuracy: 0.4382\n",
      "Epoch 8: val_accuracy did not improve from 0.51681\n",
      "101/101 [==============================] - 79s 783ms/step - loss: -2.2126 - accuracy: 0.4382 - val_loss: -4.4374 - val_accuracy: 0.4433\n",
      "Epoch 9/20\n",
      "101/101 [==============================] - ETA: 0s - loss: -4.0635 - accuracy: 0.4525\n",
      "Epoch 9: val_accuracy did not improve from 0.51681\n",
      "101/101 [==============================] - 79s 785ms/step - loss: -4.0635 - accuracy: 0.4525 - val_loss: -6.0463 - val_accuracy: 0.4633\n",
      "Epoch 10/20\n",
      "101/101 [==============================] - ETA: 0s - loss: -6.4228 - accuracy: 0.4681\n",
      "Epoch 10: val_accuracy did not improve from 0.51681\n",
      "101/101 [==============================] - 79s 780ms/step - loss: -6.4228 - accuracy: 0.4681 - val_loss: -7.2746 - val_accuracy: 0.4371\n",
      "Epoch 11/20\n",
      "101/101 [==============================] - ETA: 0s - loss: -7.0291 - accuracy: 0.4678\n",
      "Epoch 11: val_accuracy did not improve from 0.51681\n",
      "101/101 [==============================] - 78s 776ms/step - loss: -7.0291 - accuracy: 0.4678 - val_loss: -9.4704 - val_accuracy: 0.4583\n",
      "Epoch 12/20\n",
      "101/101 [==============================] - ETA: 0s - loss: -9.8200 - accuracy: 0.4569\n",
      "Epoch 12: val_accuracy did not improve from 0.51681\n",
      "101/101 [==============================] - 79s 787ms/step - loss: -9.8200 - accuracy: 0.4569 - val_loss: -9.5381 - val_accuracy: 0.4595\n",
      "Epoch 13/20\n",
      "101/101 [==============================] - ETA: 0s - loss: -11.7100 - accuracy: 0.4684\n",
      "Epoch 13: val_accuracy did not improve from 0.51681\n",
      "101/101 [==============================] - 78s 776ms/step - loss: -11.7100 - accuracy: 0.4684 - val_loss: -11.4351 - val_accuracy: 0.4645\n",
      "Epoch 14/20\n",
      "101/101 [==============================] - ETA: 0s - loss: -13.2445 - accuracy: 0.4706\n",
      "Epoch 14: val_accuracy did not improve from 0.51681\n",
      "101/101 [==============================] - 79s 787ms/step - loss: -13.2445 - accuracy: 0.4706 - val_loss: -7.3775 - val_accuracy: 0.4994\n",
      "Epoch 15/20\n",
      "101/101 [==============================] - ETA: 0s - loss: -14.9815 - accuracy: 0.4709\n",
      "Epoch 15: val_accuracy did not improve from 0.51681\n",
      "101/101 [==============================] - 79s 786ms/step - loss: -14.9815 - accuracy: 0.4709 - val_loss: -15.3856 - val_accuracy: 0.4782\n",
      "Epoch 16/20\n",
      "101/101 [==============================] - ETA: 0s - loss: -18.6421 - accuracy: 0.4855\n",
      "Epoch 16: val_accuracy did not improve from 0.51681\n",
      "101/101 [==============================] - 78s 777ms/step - loss: -18.6421 - accuracy: 0.4855 - val_loss: -18.2678 - val_accuracy: 0.5019\n",
      "Epoch 17/20\n",
      "101/101 [==============================] - ETA: 0s - loss: -21.2234 - accuracy: 0.4886\n",
      "Epoch 17: val_accuracy did not improve from 0.51681\n",
      "101/101 [==============================] - 80s 791ms/step - loss: -21.2234 - accuracy: 0.4886 - val_loss: -18.3306 - val_accuracy: 0.4545\n",
      "Epoch 18/20\n",
      "101/101 [==============================] - ETA: 0s - loss: -23.6897 - accuracy: 0.4759\n",
      "Epoch 18: val_accuracy did not improve from 0.51681\n",
      "101/101 [==============================] - 79s 783ms/step - loss: -23.6897 - accuracy: 0.4759 - val_loss: -21.9299 - val_accuracy: 0.4932\n",
      "Epoch 19/20\n",
      "101/101 [==============================] - ETA: 0s - loss: -22.3665 - accuracy: 0.4802\n",
      "Epoch 19: val_accuracy did not improve from 0.51681\n",
      "101/101 [==============================] - 79s 779ms/step - loss: -22.3665 - accuracy: 0.4802 - val_loss: 48.7269 - val_accuracy: 0.3176\n",
      "Epoch 20/20\n",
      "101/101 [==============================] - ETA: 0s - loss: 23.6163 - accuracy: 0.2974\n",
      "Epoch 20: val_accuracy did not improve from 0.51681\n",
      "101/101 [==============================] - 79s 783ms/step - loss: 23.6163 - accuracy: 0.2974 - val_loss: 4.3197 - val_accuracy: 0.3176\n",
      "26/26 [==============================] - 3s 103ms/step\n"
     ]
    }
   ],
   "source": [
    "\n",
    "\n",
    "# Build LSTM model\n",
    "model = Sequential()\n",
    "model.add(Bidirectional(LSTM(units=128, dropout=0.2, recurrent_dropout=0.2, input_shape=(max_length, 300))))\n",
    "model.add(Dense(units=1, activation='sigmoid'))\n",
    "\n",
    "# Compile model\n",
    "model.compile(optimizer='adam', loss='binary_crossentropy', metrics=['accuracy'])\n",
    "\n",
    "# Define a callback to save the model with the best validation accuracy\n",
    "checkpoint = ModelCheckpoint('best_model.h5', monitor='val_accuracy', save_best_only=True, mode='max', verbose=1)\n",
    "\n",
    "# Train model\n",
    "history = model.fit(X_train_lstm, y_train_lstm, epochs=20, batch_size=32, validation_data=(X_test_lstm, y_test_lstm), callbacks=[checkpoint])\n",
    "\n",
    "# Save model architecture to a file\n",
    "with open('model_architecture.pkl', 'wb') as f:\n",
    "    pickle.dump(model.to_json(), f)\n",
    "# Save model weights to a file\n",
    "model.save_weights('model_weights.h5')\n",
    "\n",
    "# Save model training configuration to a file\n",
    "with open('model_config.pkl', 'wb') as f:\n",
    "    pickle.dump(history.history, f)\n",
    "Y_pred_LSTM=model.predict(X_test_lstm)"
   ]
  },
  {
   "cell_type": "markdown",
   "metadata": {},
   "source": [
    "## 5.2. Casual models"
   ]
  },
  {
   "cell_type": "code",
   "execution_count": 31,
   "metadata": {},
   "outputs": [],
   "source": [
    "# Split the DataFrame indices into train and test indices\n",
    "train_indices, test_indices = train_test_split(df.index, test_size=0.2, random_state=42)\n",
    "\n",
    "# Assign the corresponding labels to y_train and y_test using the indices\n",
    "y_train = df.loc[train_indices, 'sentiment']\n",
    "y_test = df.loc[test_indices, 'sentiment']"
   ]
  },
  {
   "cell_type": "code",
   "execution_count": 32,
   "metadata": {},
   "outputs": [],
   "source": [
    "neural = MLPClassifier(hidden_layer_sizes=(100,150),activation='logistic',solver='adam')\n",
    "linear_svm = SVC(kernel='linear')\n",
    "rbf_svm = SVC(kernel='rbf')\n",
    "sgd_svm = SVC(kernel='sigmoid')\n",
    "poly_svm = SVC(kernel='poly',degree=2)\n",
    "gnb = GaussianNB()\n",
    "\n",
    "#Training of ML algorithms\n",
    "neural.fit(X_train,y_train)\n",
    "linear_svm.fit(X_train,y_train)\n",
    "rbf_svm.fit(X_train,y_train)\n",
    "sgd_svm.fit(X_train,y_train)\n",
    "poly_svm.fit(X_train,y_train)\n",
    "gnb.fit(X_train,y_train)\n",
    "\n",
    "#prediction\n",
    "Y_pred_neural = neural.predict(X_test)\n",
    "Y_pred_linear_svm = linear_svm.predict(X_test)\n",
    "Y_pred_rbf = rbf_svm.predict(X_test)\n",
    "Y_pred_sgd = sgd_svm.predict(X_test)\n",
    "Y_pred_poly = poly_svm.predict(X_test)\n",
    "Y_pred_gnb = gnb.predict(X_test)\n"
   ]
  },
  {
   "cell_type": "markdown",
   "metadata": {},
   "source": [
    "# 6. Performance evaluation"
   ]
  },
  {
   "cell_type": "markdown",
   "metadata": {},
   "source": [
    "## 6.1. LSTM performance evaluation"
   ]
  },
  {
   "cell_type": "code",
   "execution_count": null,
   "metadata": {},
   "outputs": [],
   "source": [
    "tunisian_series_comments = [\n",
    "    \"مسلسل 'وادي الذئاب' من أفضل المسلسلات التونسية التي شاهدتها.\",\n",
    "    \"لقد استمتعت كثيراً بمتابعة مسلسل 'علاء الدين'.\",\n",
    "    \"ما رأيك في مسلسل 'حكايات تونسية'؟\",\n",
    "    \"أنا متحمس جداً للموسم الجديد من مسلسل 'سامحيني'.\",\n",
    "    \"ما رأيك في الأداء الفني في مسلسل 'دار الزين'؟\",\n",
    "    \"أحببت شخصية 'محمد باش' في مسلسل 'الوعد'.\",\n",
    "    \"لم يعجبني السيناريو في مسلسل 'ولد الغلابة'.\",\n",
    "    \"ما هي أفضل مسلسلات التاريخ التونسي برأيك؟\",\n",
    "    \"من المسلسلات التونسية التي لا يمكنني نسيانها: 'سبع صنايع'.\",\n",
    "    \"مسلسل 'الأب الروحي' يعكس الحياة اليومية في تونس بشكل جميل.\",\n",
    "    \"هل شاهدت مسلسل 'شوفلي حل'؟ إذاً، ما رأيك فيه؟\",\n",
    "    \"ما هو مسلسلك التونسي المفضل؟\",\n",
    "    \"السيناريو يفتقد إلى الجاذبية والتوتر اللازمين.\",\n",
    "    \"التمثيل يبدو مبتذلاً وغير مقنع.\"\n",
    "]\n",
    "\n",
    "# Iterate over the list of comments\n",
    "for comment in tunisian_series_comments:\n",
    "    # Preprocess the comment\n",
    "    processed_comment = preprocess_text(comment)\n",
    "\n",
    "    # Tokenize and convert to embedding\n",
    "    embedding = get_embedding(processed_comment)\n",
    "\n",
    "    # Pad sequence\n",
    "    padded_embedding = pad_sequences([embedding], maxlen=max_length, padding='post', dtype='float32')\n",
    "\n",
    "    # Predict sentiment\n",
    "    prediction = model.predict(padded_embedding)\n",
    "\n",
    "    # Convert prediction to sentiment label\n",
    "    if prediction > 0.5:\n",
    "        sentiment_label = 'Positive'\n",
    "    elif prediction < -0.5:\n",
    "        sentiment_label = 'Negative'\n",
    "    else:\n",
    "        sentiment_label = 'Neutral'\n",
    "\n",
    "    # Print the comment and its predicted sentiment\n",
    "    print(\"Comment:\", comment)\n",
    "    print(\"Predicted Sentiment:\", sentiment_label)\n",
    "    print()\n"
   ]
  },
  {
   "cell_type": "markdown",
   "metadata": {},
   "source": [
    "## 6.2. Machine learning algorithms evaluation"
   ]
  },
  {
   "cell_type": "code",
   "execution_count": 33,
   "metadata": {},
   "outputs": [
    {
     "name": "stdout",
     "output_type": "stream",
     "text": [
      "************** Perfomance of neural network ******************\n",
      "              precision    recall  f1-score   support\n",
      "\n",
      "        -1.0       0.79      0.62      0.69       188\n",
      "         0.0       0.59      0.62      0.60       255\n",
      "         1.0       0.74      0.80      0.77       360\n",
      "\n",
      "    accuracy                           0.70       803\n",
      "   macro avg       0.71      0.68      0.69       803\n",
      "weighted avg       0.70      0.70      0.70       803\n",
      "\n",
      "************** Perfomance of linear svm ******************\n",
      "              precision    recall  f1-score   support\n",
      "\n",
      "        -1.0       0.83      0.69      0.75       188\n",
      "         0.0       0.65      0.66      0.66       255\n",
      "         1.0       0.77      0.83      0.80       360\n",
      "\n",
      "    accuracy                           0.74       803\n",
      "   macro avg       0.75      0.73      0.74       803\n",
      "weighted avg       0.75      0.74      0.74       803\n",
      "\n",
      "************** Perfomance of rbf ******************\n",
      "              precision    recall  f1-score   support\n",
      "\n",
      "        -1.0       0.87      0.51      0.64       188\n",
      "         0.0       0.67      0.59      0.62       255\n",
      "         1.0       0.68      0.88      0.76       360\n",
      "\n",
      "    accuracy                           0.70       803\n",
      "   macro avg       0.74      0.66      0.68       803\n",
      "weighted avg       0.72      0.70      0.69       803\n",
      "\n",
      "************** Perfomance of sgd ******************\n",
      "              precision    recall  f1-score   support\n",
      "\n",
      "        -1.0       0.85      0.67      0.75       188\n",
      "         0.0       0.65      0.69      0.67       255\n",
      "         1.0       0.78      0.83      0.80       360\n",
      "\n",
      "    accuracy                           0.75       803\n",
      "   macro avg       0.76      0.73      0.74       803\n",
      "weighted avg       0.75      0.75      0.75       803\n",
      "\n",
      "************** Perfomance of poly ******************\n",
      "              precision    recall  f1-score   support\n",
      "\n",
      "        -1.0       0.95      0.49      0.65       188\n",
      "         0.0       0.72      0.42      0.53       255\n",
      "         1.0       0.59      0.92      0.72       360\n",
      "\n",
      "    accuracy                           0.66       803\n",
      "   macro avg       0.75      0.61      0.63       803\n",
      "weighted avg       0.72      0.66      0.64       803\n",
      "\n",
      "************** Perfomance of gnb ******************\n",
      "              precision    recall  f1-score   support\n",
      "\n",
      "        -1.0       0.73      0.69      0.71       188\n",
      "         0.0       0.46      0.68      0.55       255\n",
      "         1.0       0.75      0.51      0.61       360\n",
      "\n",
      "    accuracy                           0.61       803\n",
      "   macro avg       0.64      0.63      0.62       803\n",
      "weighted avg       0.65      0.61      0.61       803\n",
      "\n"
     ]
    }
   ],
   "source": [
    "print(\"************** Perfomance of neural network ******************\")\n",
    "print(classification_report(y_test, Y_pred_neural))\n",
    "print(\"************** Perfomance of linear svm ******************\")\n",
    "print(classification_report(y_test, Y_pred_linear_svm))\n",
    "print(\"************** Perfomance of rbf ******************\")\n",
    "print(classification_report(y_test, Y_pred_rbf))\n",
    "print(\"************** Perfomance of sgd ******************\")\n",
    "print(classification_report(y_test, Y_pred_sgd))\n",
    "print(\"************** Perfomance of poly ******************\")\n",
    "print(classification_report(y_test, Y_pred_poly))\n",
    "print(\"************** Perfomance of gnb ******************\")\n",
    "print(classification_report(y_test, Y_pred_gnb))\n"
   ]
  },
  {
   "cell_type": "markdown",
   "metadata": {},
   "source": [
    "# 7. Deployment"
   ]
  },
  {
   "cell_type": "code",
   "execution_count": 35,
   "metadata": {},
   "outputs": [],
   "source": [
    "pickle.dump(vectorizer,open('vectorizer.pickle',\"wb\"))\n",
    "pickle.dump(sgd_svm,open('best_model_sgd.pickle',\"wb\"))"
   ]
  }
 ],
 "metadata": {
  "kernelspec": {
   "display_name": "deep",
   "language": "python",
   "name": "python3"
  },
  "language_info": {
   "codemirror_mode": {
    "name": "ipython",
    "version": 3
   },
   "file_extension": ".py",
   "mimetype": "text/x-python",
   "name": "python",
   "nbconvert_exporter": "python",
   "pygments_lexer": "ipython3",
   "version": "3.10.13"
  }
 },
 "nbformat": 4,
 "nbformat_minor": 2
}
